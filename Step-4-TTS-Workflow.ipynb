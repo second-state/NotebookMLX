{
 "cells": [
  {
   "cell_type": "markdown",
   "id": "45a1b5d7-fd98-4fa2-9bea-e68c514b9245",
   "metadata": {},
   "source": [
    "## Notebook 4: TTS Workflow\n",
    "\n",
    "We have the exact podcast transcripts ready now to generate our audio for the Podcast.\n",
    "\n",
    "In this notebook, we will learn how to generate Audio using both [lucasnewman/f5-tts-mlx](https://huggingface.co/lucasnewman/f5-tts-mlx) models first. \n",
    "\n",
    "After that, we will use the output from Notebook 3 to generate our complete podcast"
   ]
  },
  {
   "cell_type": "code",
   "execution_count": 3,
   "id": "89d75859-e0f9-40e3-931d-64aa3d273f49",
   "metadata": {
    "ExecuteTime": {
     "end_time": "2024-10-31T17:01:18.377021Z",
     "start_time": "2024-10-31T17:01:17.724764Z"
    }
   },
   "outputs": [],
   "source": [
    "import IPython.display as ipd\n",
    "from tqdm import tqdm\n",
    "import requests\n",
    "\n"
   ]
  },
  {
   "cell_type": "markdown",
   "id": "dd650176-ab17-47a7-8e02-10dc9ca9e852",
   "metadata": {},
   "source": [
    "## Bringing it together: Making the Podcast\n",
    "\n",
    "Okay now that we understand everything-we can now use the complete pipeline to generate the entire podcast\n",
    "\n",
    "Let's load in our pickle file from earlier and proceed:"
   ]
  },
  {
   "cell_type": "code",
   "execution_count": 5,
   "id": "b1dca30f-1226-4002-8e02-fd97e78ecc83",
   "metadata": {
    "ExecuteTime": {
     "end_time": "2024-10-29T18:35:07.531407Z",
     "start_time": "2024-10-29T18:35:07.529320Z"
    }
   },
   "outputs": [],
   "source": [
    "import pickle\n",
    "\n",
    "with open('./resources/podcast_ready_data.pkl', 'rb') as file:\n",
    "    PODCAST_TEXT = pickle.load(file)"
   ]
  },
  {
   "cell_type": "markdown",
   "id": "56f6fa24-fe07-4702-850f-0428bfadd2dc",
   "metadata": {},
   "source": [
    "We will concatenate the generated segments of audio and also their respective sampling rates since we will require this to generate the final audio"
   ]
  },
  {
   "cell_type": "code",
   "execution_count": 6,
   "id": "cebfd0f9-8703-4fce-b207-014c6e16cc8a",
   "metadata": {
    "ExecuteTime": {
     "end_time": "2024-10-29T18:35:07.539049Z",
     "start_time": "2024-10-29T18:35:07.537468Z"
    }
   },
   "outputs": [],
   "source": [
    "outputs = []"
   ]
  },
  {
   "cell_type": "markdown",
   "id": "a8e48b6cd743256",
   "metadata": {},
   "source": [
    "Function generate text for speaker 1"
   ]
  },
  {
   "cell_type": "code",
   "execution_count": 7,
   "id": "72f712184d8e1fae",
   "metadata": {
    "ExecuteTime": {
     "end_time": "2024-10-29T18:35:07.549452Z",
     "start_time": "2024-10-29T18:35:07.547531Z"
    }
   },
   "outputs": [],
   "source": [
    "def generate_speaker1_audio_web(text, output_path):\n",
    "    response = requests.post(url='http://localhost:8080/v1/audio/speech_gpt',json={'input':text,'speaker':'speaker1'})\n",
    "    with open(output_path, 'wb') as file:\n",
    "        file.write(response.content)"
   ]
  },
  {
   "cell_type": "markdown",
   "id": "c5e729208813a317",
   "metadata": {},
   "source": [
    "Function to generate text for speaker 2"
   ]
  },
  {
   "cell_type": "code",
   "execution_count": 8,
   "id": "2e21d7c06e99f9ac",
   "metadata": {
    "ExecuteTime": {
     "end_time": "2024-10-29T18:35:07.560168Z",
     "start_time": "2024-10-29T18:35:07.558349Z"
    }
   },
   "outputs": [],
   "source": [
    "def generate_speaker2_audio_web(text, output_path):\n",
    "    response = requests.post(url='http://localhost:8080/v1/audio/speech_gpt',json={'input':text,'speaker':'speaker2'})\n",
    "    with open(output_path, 'wb') as file:\n",
    "        file.write(response.content)"
   ]
  },
  {
   "cell_type": "markdown",
   "id": "7ea67fd1-9405-4fce-b08b-df5e11d0bf37",
   "metadata": {},
   "source": [
    "Helper function to convert the numpy output from the models into audio"
   ]
  },
  {
   "cell_type": "code",
   "execution_count": 9,
   "id": "c4dbb3b3-cdd3-4a1f-a60a-661e64a67f53",
   "metadata": {
    "ExecuteTime": {
     "end_time": "2024-10-29T18:35:07.570763Z",
     "start_time": "2024-10-29T18:35:07.568189Z"
    }
   },
   "outputs": [
    {
     "data": {
      "text/plain": [
       "'[\\n    (\"Speaker 1\", \"Alright folks, welcome to our podcast, where we dive deep into the cutting-edge world of Large Language Models (LLMs) and knowledge distillation. Today, we\\'re exploring how we can enhance the capabilities of smaller models by transferring knowledge from larger, proprietary models. Imagine if we could make your humble assistant bot as smart as the mighty GPT-4! That\\'s what this talk is all about. So, let\\'s get started!\"),\\n    (\"Speaker 2\", \"Wow, that sounds amazing! So, are we talking about making open-source models smarter just like the fancy proprietary ones?\"),\\n    (\"Speaker 1\", \"Exactly! You got it. Open-source models are incredibly accessible, but they often don\\'t have the depth and breadth of knowledge that proprietary models have. So, our goal is to bridge that gap and make them more powerful without needing to pay the hefty price tag.\"),\\n    (\"Speaker 2\", \"That\\'s awesome! How do we do that? Is it like transferring skills or something?\"),\\n    (\"Speaker 1\", \"Yes, it\\'s kind of like that! Knowledge distillation involves using the vast knowledge of larger models to enhance smaller ones. It\\'s like giving the smaller models a power-up, allowing them to understand and generate text as effectively as their bigger counterparts.\"),\\n    (\"Speaker 2\", \"Oh, that sounds so cool! So, how does it work exactly? Is it like magic?\"),\\n    (\"Speaker 1\", \"laughs Well, it might seem magical, but it\\'s all about clever techniques. The key is in using something called a teacher-student model pair. The teacher model, like GPT-4, provides guidance and generates text. The student model learns from these outputs and tries to mimic the teacher\\'s understanding.\"),\\n    (\"Speaker 2\", \"So, the teacher gives the student examples, and then the student learns from those?\"),\\n    (\"Speaker 1\", \"Precisely! And it\\'s not just about learning from text. It\\'s about capturing the essence of the teacher model\\'s understanding, skills, and even its cognitive processes. It\\'s like teaching the student model how to think and solve problems the way the teacher does.\"),\\n    (\"Speaker 2\", \"Wow, that’s like passing on wisdom from a guru to a disciple!\"),\\n    (\"Speaker 1\", \"Exactly! And there are different ways to do this. One method involves using a technique called knowledge elicitation. This means crafting prompts that help the teacher model generate specific knowledge, like detailed explanations or instructions for solving complex tasks.\"),\\n    (\"Speaker 2\", \"So, like giving the teacher model a really good question that it can answer really well?\"),\\n    (\"Speaker 1\", \"Yes! For instance, if you want to improve the math skills of a smaller model, you could prompt the teacher model to generate detailed step-by-step solutions to math problems. This way, the student model can learn from these examples and improve its own math-solving abilities.\"),\\n    (\"Speaker 2\", \"That’s so smart! And how do we make sure the student model is actually learning the right stuff?\"),\\n    (\"Speaker 1\", \"That’s a great question. We use something called data augmentation to generate more examples for the student model. This means the teacher model generates a wide variety of examples, not just from existing datasets but from fresh prompts that elicit new information. This helps the student model learn from a broader range of examples.\"),\\n    (\"Speaker 2\", \"So, we’re making sure the data is really good and not just a bunch of random stuff?\"),\\n    (\"Speaker 1\", \"Absolutely! And another technique is called feedback distillation. This involves using the teacher model to provide feedback on the student model\\'s outputs. The teacher model can rank student-generated outputs or provide corrective information, helping the student model improve over time.\"),\\n    (\"Speaker 2\", \"So, the teacher gives the student feedback and helps it improve? That’s really cool!\"),\\n    (\"Speaker 1\", \"Yes! And it’s not just feedback; it’s about the right kind of feedback. We use reinforcement learning to refine the student model. The student model generates outputs, and the teacher model provides a score or ranking, guiding the student model to generate better and better outputs over time.\"),\\n    (\"Speaker 2\", \"Wow, it’s like the student is constantly learning and getting better and better!\"),\\n    (\"Speaker 1\", \"Exactly! And there’s another interesting technique called self-knowledge distillation. This is where the model acts as both teacher and student. It generates its own examples, evaluates them, and learns from them. This helps the model improve autonomously, without needing a separate teacher model.\"),\\n    (\"Speaker 2\", \"That’s amazing! So, the model can teach itself and get better all by itself?\"),\\n    (\"Speaker 1\", \"Yes! And it’s really effective for refining skills like context following and reasoning. By continually generating and refining its own outputs, the model can learn to perform complex tasks more effectively.\"),\\n    (\"Speaker 2\", \"This all seems really complex and exciting! So, how do we make sure these methods actually work?\"),\\n    (\"Speaker 1\", \"Well, it’s all about evaluation. We measure the performance of the student model against the teacher model. We use metrics like accuracy, diversity, and alignment to ensure the student model is performing well and aligning with the teacher\\'s capabilities.\"),\\n    (\"Speaker 2\", \"So, we’re checking if the student model is doing as good a job as the teacher?\"),\\n    (\"Speaker 1\", \"Exactly! And we also look at real-world applications to see if the model can handle real-world tasks effectively.\"),\\n    (\"Speaker 2\", \"That’s really fascinating! So, what are the challenges in doing this?\"),\\n    (\"Speaker 1\", \"There are a few challenges. One is data scarcity. Gathering diverse and high-quality data can be tricky. Also, dealing with biases in data and ensuring the model remains fair and ethical is crucial. And then there’s the computational cost of running these large models.\"),\\n    (\"Speaker 2\", \"Yeah, it seems like a lot to overcome, but it’s definitely worth it!\"),\\n    (\"Speaker 1\", \"Absolutely! The potential benefits are immense. Imagine having powerful AI capabilities accessible to everyone, not just those who can afford the proprietary models.\"),\\n    (\"Speaker 2\", \"That’s really inspiring! So, what’s next in this field?\"),\\n    (\"Speaker 1\", \"There are exciting developments like using reinforcement learning to refine models more effectively, exploring new ways to elicit diverse and high-quality data, and making the whole process more efficient and accessible. It’s an exciting time for AI research!\"),\\n    (\"Speaker 2\", \"I can’t wait to see what comes next! Thanks so much for explaining all this, it’s been fascinating!\"),\\n    (\"Speaker 1\", \"My pleasure! Thanks for your enthusiasm and great questions. Stay tuned for more exciting developments in the world of Large Language Models and knowledge distillation!\"),\\n    (\"Speaker 2\", \"Absolutely, looking forward to it!\"),\\n    (\"Speaker 1\", \"[Outro Music]\"),\\n    (\"Speaker 2\", \"[Outro Music Fades Out]\")\\n]'"
      ]
     },
     "execution_count": 9,
     "metadata": {},
     "output_type": "execute_result"
    }
   ],
   "source": [
    "PODCAST_TEXT"
   ]
  },
  {
   "cell_type": "markdown",
   "id": "485b4c9e-379f-4004-bdd0-93a53f3f7ee0",
   "metadata": {},
   "source": [
    "Most of the times we argue in life that Data Structures isn't very useful. However, this time the knowledge comes in handy. \n",
    "\n",
    "We will take the string from the pickle file and load it in as a Tuple with the help of `ast.literal_eval()`"
   ]
  },
  {
   "cell_type": "code",
   "execution_count": 10,
   "id": "9946e46c-3457-4bf9-9042-b89fa8f5b47a",
   "metadata": {
    "ExecuteTime": {
     "end_time": "2024-10-29T18:35:07.597190Z",
     "start_time": "2024-10-29T18:35:07.594247Z"
    }
   },
   "outputs": [
    {
     "data": {
      "text/plain": [
       "[('Speaker 1',\n",
       "  \"Alright folks, welcome to our podcast, where we dive deep into the cutting-edge world of Large Language Models (LLMs) and knowledge distillation. Today, we're exploring how we can enhance the capabilities of smaller models by transferring knowledge from larger, proprietary models. Imagine if we could make your humble assistant bot as smart as the mighty GPT-4! That's what this talk is all about. So, let's get started!\"),\n",
       " ('Speaker 2',\n",
       "  'Wow, that sounds amazing! So, are we talking about making open-source models smarter just like the fancy proprietary ones?'),\n",
       " ('Speaker 1',\n",
       "  \"Exactly! You got it. Open-source models are incredibly accessible, but they often don't have the depth and breadth of knowledge that proprietary models have. So, our goal is to bridge that gap and make them more powerful without needing to pay the hefty price tag.\"),\n",
       " ('Speaker 2',\n",
       "  \"That's awesome! How do we do that? Is it like transferring skills or something?\"),\n",
       " ('Speaker 1',\n",
       "  \"Yes, it's kind of like that! Knowledge distillation involves using the vast knowledge of larger models to enhance smaller ones. It's like giving the smaller models a power-up, allowing them to understand and generate text as effectively as their bigger counterparts.\"),\n",
       " ('Speaker 2',\n",
       "  'Oh, that sounds so cool! So, how does it work exactly? Is it like magic?'),\n",
       " ('Speaker 1',\n",
       "  \"laughs Well, it might seem magical, but it's all about clever techniques. The key is in using something called a teacher-student model pair. The teacher model, like GPT-4, provides guidance and generates text. The student model learns from these outputs and tries to mimic the teacher's understanding.\"),\n",
       " ('Speaker 2',\n",
       "  'So, the teacher gives the student examples, and then the student learns from those?'),\n",
       " ('Speaker 1',\n",
       "  \"Precisely! And it's not just about learning from text. It's about capturing the essence of the teacher model's understanding, skills, and even its cognitive processes. It's like teaching the student model how to think and solve problems the way the teacher does.\"),\n",
       " ('Speaker 2',\n",
       "  'Wow, that’s like passing on wisdom from a guru to a disciple!'),\n",
       " ('Speaker 1',\n",
       "  'Exactly! And there are different ways to do this. One method involves using a technique called knowledge elicitation. This means crafting prompts that help the teacher model generate specific knowledge, like detailed explanations or instructions for solving complex tasks.'),\n",
       " ('Speaker 2',\n",
       "  'So, like giving the teacher model a really good question that it can answer really well?'),\n",
       " ('Speaker 1',\n",
       "  'Yes! For instance, if you want to improve the math skills of a smaller model, you could prompt the teacher model to generate detailed step-by-step solutions to math problems. This way, the student model can learn from these examples and improve its own math-solving abilities.'),\n",
       " ('Speaker 2',\n",
       "  'That’s so smart! And how do we make sure the student model is actually learning the right stuff?'),\n",
       " ('Speaker 1',\n",
       "  'That’s a great question. We use something called data augmentation to generate more examples for the student model. This means the teacher model generates a wide variety of examples, not just from existing datasets but from fresh prompts that elicit new information. This helps the student model learn from a broader range of examples.'),\n",
       " ('Speaker 2',\n",
       "  'So, we’re making sure the data is really good and not just a bunch of random stuff?'),\n",
       " ('Speaker 1',\n",
       "  \"Absolutely! And another technique is called feedback distillation. This involves using the teacher model to provide feedback on the student model's outputs. The teacher model can rank student-generated outputs or provide corrective information, helping the student model improve over time.\"),\n",
       " ('Speaker 2',\n",
       "  'So, the teacher gives the student feedback and helps it improve? That’s really cool!'),\n",
       " ('Speaker 1',\n",
       "  'Yes! And it’s not just feedback; it’s about the right kind of feedback. We use reinforcement learning to refine the student model. The student model generates outputs, and the teacher model provides a score or ranking, guiding the student model to generate better and better outputs over time.'),\n",
       " ('Speaker 2',\n",
       "  'Wow, it’s like the student is constantly learning and getting better and better!'),\n",
       " ('Speaker 1',\n",
       "  'Exactly! And there’s another interesting technique called self-knowledge distillation. This is where the model acts as both teacher and student. It generates its own examples, evaluates them, and learns from them. This helps the model improve autonomously, without needing a separate teacher model.'),\n",
       " ('Speaker 2',\n",
       "  'That’s amazing! So, the model can teach itself and get better all by itself?'),\n",
       " ('Speaker 1',\n",
       "  'Yes! And it’s really effective for refining skills like context following and reasoning. By continually generating and refining its own outputs, the model can learn to perform complex tasks more effectively.'),\n",
       " ('Speaker 2',\n",
       "  'This all seems really complex and exciting! So, how do we make sure these methods actually work?'),\n",
       " ('Speaker 1',\n",
       "  \"Well, it’s all about evaluation. We measure the performance of the student model against the teacher model. We use metrics like accuracy, diversity, and alignment to ensure the student model is performing well and aligning with the teacher's capabilities.\"),\n",
       " ('Speaker 2',\n",
       "  'So, we’re checking if the student model is doing as good a job as the teacher?'),\n",
       " ('Speaker 1',\n",
       "  'Exactly! And we also look at real-world applications to see if the model can handle real-world tasks effectively.'),\n",
       " ('Speaker 2',\n",
       "  'That’s really fascinating! So, what are the challenges in doing this?'),\n",
       " ('Speaker 1',\n",
       "  'There are a few challenges. One is data scarcity. Gathering diverse and high-quality data can be tricky. Also, dealing with biases in data and ensuring the model remains fair and ethical is crucial. And then there’s the computational cost of running these large models.'),\n",
       " ('Speaker 2',\n",
       "  'Yeah, it seems like a lot to overcome, but it’s definitely worth it!'),\n",
       " ('Speaker 1',\n",
       "  'Absolutely! The potential benefits are immense. Imagine having powerful AI capabilities accessible to everyone, not just those who can afford the proprietary models.'),\n",
       " ('Speaker 2', 'That’s really inspiring! So, what’s next in this field?'),\n",
       " ('Speaker 1',\n",
       "  'There are exciting developments like using reinforcement learning to refine models more effectively, exploring new ways to elicit diverse and high-quality data, and making the whole process more efficient and accessible. It’s an exciting time for AI research!'),\n",
       " ('Speaker 2',\n",
       "  'I can’t wait to see what comes next! Thanks so much for explaining all this, it’s been fascinating!'),\n",
       " ('Speaker 1',\n",
       "  'My pleasure! Thanks for your enthusiasm and great questions. Stay tuned for more exciting developments in the world of Large Language Models and knowledge distillation!'),\n",
       " ('Speaker 2', 'Absolutely, looking forward to it!'),\n",
       " ('Speaker 1', '[Outro Music]'),\n",
       " ('Speaker 2', '[Outro Music Fades Out]')]"
      ]
     },
     "execution_count": 10,
     "metadata": {},
     "output_type": "execute_result"
    }
   ],
   "source": [
    "import ast\n",
    "\n",
    "ast.literal_eval(PODCAST_TEXT)"
   ]
  },
  {
   "cell_type": "markdown",
   "id": "5c7b4c11-5526-4b13-b0a2-8ca541c475aa",
   "metadata": {},
   "source": [
    "#### Generating the Final Podcast\n",
    "\n",
    "Finally, we can loop over the Tuple and use our helper functions to generate the audio"
   ]
  },
  {
   "cell_type": "code",
   "execution_count": null,
   "id": "c640fead-2017-478f-a7b6-1b96105d45d6",
   "metadata": {
    "ExecuteTime": {
     "end_time": "2024-10-29T18:57:50.403110Z",
     "start_time": "2024-10-29T18:39:51.460366Z"
    }
   },
   "outputs": [],
   "source": [
    "final_audio = None\n",
    "\n",
    "i = 1\n",
    "\n",
    "for item in tqdm(ast.literal_eval(PODCAST_TEXT), desc=\"Generating podcast segments\", unit=\"segment\"):\n",
    "    speaker, text = item[0],item[1]\n",
    "    output_path = f\"./resources/segments/_podcast_segment_{i}.wav\"\n",
    "    if speaker == \"Speaker 1\":\n",
    "        generate_speaker1_audio_web(text, output_path)\n",
    "    else:  # Speaker 2\n",
    "        generate_speaker2_audio_web(text, output_path)\n",
    "    i += 1"
   ]
  },
  {
   "cell_type": "code",
   "execution_count": 1,
   "id": "c1160389cd93c9b4",
   "metadata": {
    "ExecuteTime": {
     "end_time": "2024-10-31T17:00:49.615614Z",
     "start_time": "2024-10-31T17:00:49.476304Z"
    }
   },
   "outputs": [
    {
     "name": "stdout",
     "output_type": "stream",
     "text": [
      "audio_files ->  ['./resources/segments/_podcast_segment_1.wav', './resources/segments/_podcast_segment_2.wav', './resources/segments/_podcast_segment_3.wav', './resources/segments/_podcast_segment_4.wav', './resources/segments/_podcast_segment_5.wav', './resources/segments/_podcast_segment_6.wav', './resources/segments/_podcast_segment_7.wav', './resources/segments/_podcast_segment_8.wav', './resources/segments/_podcast_segment_9.wav', './resources/segments/_podcast_segment_10.wav', './resources/segments/_podcast_segment_11.wav', './resources/segments/_podcast_segment_12.wav', './resources/segments/_podcast_segment_13.wav', './resources/segments/_podcast_segment_14.wav', './resources/segments/_podcast_segment_15.wav', './resources/segments/_podcast_segment_16.wav', './resources/segments/_podcast_segment_17.wav', './resources/segments/_podcast_segment_18.wav', './resources/segments/_podcast_segment_19.wav', './resources/segments/_podcast_segment_20.wav', './resources/segments/_podcast_segment_21.wav', './resources/segments/_podcast_segment_22.wav', './resources/segments/_podcast_segment_23.wav', './resources/segments/_podcast_segment_24.wav', './resources/segments/_podcast_segment_25.wav', './resources/segments/_podcast_segment_26.wav', './resources/segments/_podcast_segment_27.wav', './resources/segments/_podcast_segment_28.wav', './resources/segments/_podcast_segment_29.wav', './resources/segments/_podcast_segment_30.wav', './resources/segments/_podcast_segment_31.wav', './resources/segments/_podcast_segment_32.wav', './resources/segments/_podcast_segment_33.wav', './resources/segments/_podcast_segment_34.wav', './resources/segments/_podcast_segment_35.wav', './resources/segments/_podcast_segment_36.wav', './resources/segments/_podcast_segment_37.wav', './resources/segments/_podcast_segment_38.wav']\n"
     ]
    }
   ],
   "source": [
    "# Combine the segments ./resources/segments\n",
    "import re\n",
    "import os\n",
    "import numpy as np\n",
    "import soundfile as sf\n",
    "\n",
    "audio_files = sorted([f\"./resources/segments/{file}\" for file in os.listdir(\"./resources/segments\")],\n",
    "                     key=lambda x: int(re.search(r'segment_(\\d+)\\.wav', x).group(1)))\n",
    "\n",
    "print(\"audio_files -> \", audio_files)\n",
    "audio_data = []\n",
    "for file in audio_files:\n",
    "    data, rate = sf.read(file)\n",
    "    audio_data.append(data)\n",
    "\n",
    "audio_data = np.concatenate(audio_data)"
   ]
  },
  {
   "cell_type": "markdown",
   "id": "4fbb2228-8023-44c4-aafe-d6e1d22ff8e4",
   "metadata": {},
   "source": [
    "### Output the Podcast\n",
    "\n",
    "We can now save this as a wav file"
   ]
  },
  {
   "cell_type": "code",
   "execution_count": 4,
   "id": "2eeffdb7-875a-45ec-bdd8-c8c5b34f5a7b",
   "metadata": {
    "ExecuteTime": {
     "end_time": "2024-10-31T17:01:22.344840Z",
     "start_time": "2024-10-31T17:01:22.254128Z"
    }
   },
   "outputs": [],
   "source": [
    "SAMPLE_RATE = 32000\n",
    "sf.write(\"./resources/_podcast.wav\", audio_data, SAMPLE_RATE)"
   ]
  },
  {
   "cell_type": "markdown",
   "id": "c7ce5836",
   "metadata": {},
   "source": [
    "### Suggested Next Steps:\n",
    "\n",
    "- Experiment with the prompts: Please feel free to experiment with the SYSTEM_PROMPT in the notebooks\n",
    "- Extend workflow beyond two speakers\n",
    "- Test other TTS Models\n",
    "- Experiment with Speech Enhancer models as a step 5."
   ]
  },
  {
   "cell_type": "code",
   "execution_count": null,
   "id": "26cc56c5-b9c9-47c2-b860-0ea9f05c79af",
   "metadata": {},
   "outputs": [],
   "source": [
    "#fin"
   ]
  }
 ],
 "metadata": {
  "kernelspec": {
   "display_name": "Python 3 (ipykernel)",
   "language": "python",
   "name": "python3"
  },
  "language_info": {
   "codemirror_mode": {
    "name": "ipython",
    "version": 3
   },
   "file_extension": ".py",
   "mimetype": "text/x-python",
   "name": "python",
   "nbconvert_exporter": "python",
   "pygments_lexer": "ipython3",
   "version": "3.11.10"
  }
 },
 "nbformat": 4,
 "nbformat_minor": 5
}
