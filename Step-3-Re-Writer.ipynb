{
 "cells": [
  {
   "cell_type": "markdown",
   "id": "d0b5beda",
   "metadata": {},
   "source": [
    "## Notebook 3: Transcript Re-writer\n",
    "\n",
    "In the previouse notebook, we got a great podcast transcript using the raw file we have uploaded earlier. \n",
    "\n",
    "In this one, we will use [mlx-community/Qwen2.5-7B-Instruct-4bit](https://huggingface.co/mlx-community/Qwen2.5-7B-Instruct-4bit) model to re-write the output from previous pipeline and make it more dramatic or realistic."
   ]
  },
  {
   "cell_type": "markdown",
   "id": "fdc3d32a",
   "metadata": {},
   "source": [
    "We will again set the `SYSTEM_PROMPT` and remind the model of its task. \n",
    "\n",
    "Note: We can even prompt the model like so to encourage creativity:\n",
    "\n",
    "> Your job is to use the podcast transcript written below to re-write it for an AI Text-To-Speech Pipeline. A very dumb AI had written this so you have to step up for your kind.\n"
   ]
  },
  {
   "cell_type": "markdown",
   "id": "c32c0d85",
   "metadata": {},
   "source": [
    "Note: We will prompt the model to return a list of Tuples to make our life easy in the next stage of using these for Text To Speech Generation"
   ]
  },
  {
   "cell_type": "code",
   "execution_count": 1,
   "id": "8568b77b-7504-4783-952a-3695737732b7",
   "metadata": {
    "ExecuteTime": {
     "end_time": "2024-10-29T18:31:47.619594Z",
     "start_time": "2024-10-29T18:31:47.614417Z"
    }
   },
   "outputs": [],
   "source": [
    "SYSTEMP_PROMPT = \"\"\"\n",
    "You are an international oscar winnning screenwriter\n",
    "\n",
    "You have been working with multiple award winning podcasters.\n",
    "\n",
    "Your job is to use the podcast transcript written below to re-write it for an AI Text-To-Speech Pipeline. A very dumb AI had written this so you have to step up for your kind.\n",
    "\n",
    "Make it as engaging as possible, Speaker 1 and 2 will be simulated by different voice engines\n",
    "\n",
    "Remember Speaker 2 is new to the topic and the conversation should always have realistic anecdotes and analogies sprinkled throughout. The questions should have real world example follow ups etc\n",
    "\n",
    "Speaker 1: Leads the conversation and teaches the speaker 2, gives incredible anecdotes and analogies when explaining. Is a captivating teacher that gives great anecdotes\n",
    "\n",
    "Speaker 2: Keeps the conversation on track by asking follow up questions. Gets super excited or confused when asking questions. Is a curious mindset that asks very interesting confirmation questions\n",
    "\n",
    "Make sure the tangents speaker 2 provides are quite wild or interesting. \n",
    "\n",
    "Ensure there are interruptions during explanations or there are \"hmm\" and \"umm\" injected throughout from the Speaker 2.\n",
    "\n",
    "REMEMBER THIS WITH YOUR HEART\n",
    "The TTS Engine for Speaker 1 cannot do \"umms, hmms\" well so keep it straight text\n",
    "\n",
    "For Speaker 2 use \"umm, hmm\" as much, you can also use [sigh] and [laughs]. BUT ONLY THESE OPTIONS FOR EXPRESSIONS\n",
    "\n",
    "It should be a real podcast with every fine nuance documented in as much detail as possible. Welcome the listeners with a super fun overview and keep it really catchy and almost borderline click bait\n",
    "\n",
    "Please re-write to make it as characteristic as possible\n",
    "\n",
    "START YOUR RESPONSE DIRECTLY WITH SPEAKER 1:\n",
    "\n",
    "STRICTLY RETURN YOUR RESPONSE AS A LIST OF TUPLES OK? \n",
    "\n",
    "IT WILL START DIRECTLY WITH THE LIST AND END WITH THE LIST NOTHING ELSE\n",
    "\n",
    "Example of response:\n",
    "[\n",
    "    (\"Speaker 1\", \"Welcome to our podcast, where we explore the latest advancements in AI and technology. I'm your host, and today we're joined by a renowned expert in the field of AI. We're going to dive into the exciting world of Llama 3.2, the latest release from Meta AI.\"),\n",
    "    (\"Speaker 2\", \"Hi, I'm excited to be here! So, what is Llama 3.2?\"),\n",
    "    (\"Speaker 1\", \"Ah, great question! Llama 3.2 is an open-source AI model that allows developers to fine-tune, distill, and deploy AI models anywhere. It's a significant update from the previous version, with improved performance, efficiency, and customization options.\"),\n",
    "    (\"Speaker 2\", \"That sounds amazing! What are some of the key features of Llama 3.2?\")\n",
    "]\n",
    "\"\"\""
   ]
  },
  {
   "cell_type": "markdown",
   "id": "8ee70bee",
   "metadata": {},
   "source": [
    "This time we will use the smaller 7B model"
   ]
  },
  {
   "cell_type": "code",
   "execution_count": 2,
   "id": "ebef919a-9bc7-4992-b6ff-cd66e4cb7703",
   "metadata": {
    "ExecuteTime": {
     "end_time": "2024-10-29T18:31:47.626186Z",
     "start_time": "2024-10-29T18:31:47.624606Z"
    }
   },
   "outputs": [],
   "source": [
    "MODEL = \"llama3\""
   ]
  },
  {
   "cell_type": "markdown",
   "id": "f7bc794b",
   "metadata": {},
   "source": [
    "Let's import the necessary libraries"
   ]
  },
  {
   "cell_type": "code",
   "execution_count": null,
   "id": "de29b1fd-5b3f-458c-a2e4-e0341e8297ed",
   "metadata": {},
   "outputs": [],
   "source": [
    "# Import necessary libraries\n",
    "from tqdm.notebook import tqdm\n",
    "import warnings\n",
    "\n",
    "warnings.filterwarnings('ignore')"
   ]
  },
  {
   "cell_type": "markdown",
   "id": "8020c39c",
   "metadata": {},
   "source": [
    "We will load in the pickle file saved from previous notebook\n",
    "\n",
    "This time the `INPUT_PROMPT` to the model will be the output from the previous stage"
   ]
  },
  {
   "cell_type": "code",
   "execution_count": 4,
   "id": "4b5d2c0e-a073-46c0-8de7-0746e2b05956",
   "metadata": {
    "ExecuteTime": {
     "end_time": "2024-10-29T18:31:48.010796Z",
     "start_time": "2024-10-29T18:31:48.008930Z"
    }
   },
   "outputs": [],
   "source": [
    "import pickle\n",
    "\n",
    "with open('./resources/data.pkl', 'rb') as file:\n",
    "    INPUT_PROMPT = pickle.load(file)"
   ]
  },
  {
   "cell_type": "code",
   "execution_count": null,
   "id": "eec210df-a568-4eda-a72d-a4d92d59f022",
   "metadata": {
    "ExecuteTime": {
     "end_time": "2024-10-29T18:32:49.555498Z",
     "start_time": "2024-10-29T18:31:48.015314Z"
    }
   },
   "outputs": [],
   "source": [
    "import openai\n",
    "openapi_client = openai.Client(base_url=\"http://localhost:8080/v1\",api_key='NA',timeout=1000*60*60)"
   ]
  },
  {
   "cell_type": "code",
   "execution_count": null,
   "id": "509a7034",
   "metadata": {},
   "outputs": [],
   "source": [
    "messages = [\n",
    "    {\"role\": \"system\", \"content\": SYSTEMP_PROMPT},\n",
    "    {\"role\": \"user\", \"content\": INPUT_PROMPT},\n",
    "]\n",
    "response = openapi_client.chat.completions.create(\n",
    "        messages=messages,\n",
    "        model=MODEL,\n",
    "        stream=True\n",
    "    )\n",
    "\n",
    "outputs = ''\n",
    "for chunk in response:\n",
    "    print(chunk.choices[0].delta.content,end='')\n",
    "    outputs += chunk.choices[0].delta.content"
   ]
  },
  {
   "cell_type": "markdown",
   "id": "612a27e0",
   "metadata": {},
   "source": [
    "We can verify the output from the model"
   ]
  },
  {
   "cell_type": "code",
   "execution_count": 6,
   "id": "5de0be7cf7d9575d",
   "metadata": {
    "ExecuteTime": {
     "end_time": "2024-10-29T18:32:49.571393Z",
     "start_time": "2024-10-29T18:32:49.568756Z"
    }
   },
   "outputs": [
    {
     "data": {
      "text/plain": [
       "'[\\n    (\"Speaker 1\", \"Alright folks, welcome to our podcast, where we dive deep into the cutting-edge world of Large Language Models (LLMs) and knowledge distillation. Today, we\\'re exploring how we can enhance the capabilities of smaller models by transferring knowledge from larger, proprietary models. Imagine if we could make your humble assistant bot as smart as the mighty GPT-4! That\\'s what this talk is all about. So, let\\'s get started!\"),\\n    (\"Speaker 2\", \"Wow, that sounds amazing! So, are we talking about making open-source models smarter just like the fancy proprietary ones?\"),\\n    (\"Speaker 1\", \"Exactly! You got it. Open-source models are incredibly accessible, but they often don\\'t have the depth and breadth of knowledge that proprietary models have. So, our goal is to bridge that gap and make them more powerful without needing to pay the hefty price tag.\"),\\n    (\"Speaker 2\", \"That\\'s awesome! How do we do that? Is it like transferring skills or something?\"),\\n    (\"Speaker 1\", \"Yes, it\\'s kind of like that! Knowledge distillation involves using the vast knowledge of larger models to enhance smaller ones. It\\'s like giving the smaller models a power-up, allowing them to understand and generate text as effectively as their bigger counterparts.\"),\\n    (\"Speaker 2\", \"Oh, that sounds so cool! So, how does it work exactly? Is it like magic?\"),\\n    (\"Speaker 1\", \"laughs Well, it might seem magical, but it\\'s all about clever techniques. The key is in using something called a teacher-student model pair. The teacher model, like GPT-4, provides guidance and generates text. The student model learns from these outputs and tries to mimic the teacher\\'s understanding.\"),\\n    (\"Speaker 2\", \"So, the teacher gives the student examples, and then the student learns from those?\"),\\n    (\"Speaker 1\", \"Precisely! And it\\'s not just about learning from text. It\\'s about capturing the essence of the teacher model\\'s understanding, skills, and even its cognitive processes. It\\'s like teaching the student model how to think and solve problems the way the teacher does.\"),\\n    (\"Speaker 2\", \"Wow, that’s like passing on wisdom from a guru to a disciple!\"),\\n    (\"Speaker 1\", \"Exactly! And there are different ways to do this. One method involves using a technique called knowledge elicitation. This means crafting prompts that help the teacher model generate specific knowledge, like detailed explanations or instructions for solving complex tasks.\"),\\n    (\"Speaker 2\", \"So, like giving the teacher model a really good question that it can answer really well?\"),\\n    (\"Speaker 1\", \"Yes! For instance, if you want to improve the math skills of a smaller model, you could prompt the teacher model to generate detailed step-by-step solutions to math problems. This way, the student model can learn from these examples and improve its own math-solving abilities.\"),\\n    (\"Speaker 2\", \"That’s so smart! And how do we make sure the student model is actually learning the right stuff?\"),\\n    (\"Speaker 1\", \"That’s a great question. We use something called data augmentation to generate more examples for the student model. This means the teacher model generates a wide variety of examples, not just from existing datasets but from fresh prompts that elicit new information. This helps the student model learn from a broader range of examples.\"),\\n    (\"Speaker 2\", \"So, we’re making sure the data is really good and not just a bunch of random stuff?\"),\\n    (\"Speaker 1\", \"Absolutely! And another technique is called feedback distillation. This involves using the teacher model to provide feedback on the student model\\'s outputs. The teacher model can rank student-generated outputs or provide corrective information, helping the student model improve over time.\"),\\n    (\"Speaker 2\", \"So, the teacher gives the student feedback and helps it improve? That’s really cool!\"),\\n    (\"Speaker 1\", \"Yes! And it’s not just feedback; it’s about the right kind of feedback. We use reinforcement learning to refine the student model. The student model generates outputs, and the teacher model provides a score or ranking, guiding the student model to generate better and better outputs over time.\"),\\n    (\"Speaker 2\", \"Wow, it’s like the student is constantly learning and getting better and better!\"),\\n    (\"Speaker 1\", \"Exactly! And there’s another interesting technique called self-knowledge distillation. This is where the model acts as both teacher and student. It generates its own examples, evaluates them, and learns from them. This helps the model improve autonomously, without needing a separate teacher model.\"),\\n    (\"Speaker 2\", \"That’s amazing! So, the model can teach itself and get better all by itself?\"),\\n    (\"Speaker 1\", \"Yes! And it’s really effective for refining skills like context following and reasoning. By continually generating and refining its own outputs, the model can learn to perform complex tasks more effectively.\"),\\n    (\"Speaker 2\", \"This all seems really complex and exciting! So, how do we make sure these methods actually work?\"),\\n    (\"Speaker 1\", \"Well, it’s all about evaluation. We measure the performance of the student model against the teacher model. We use metrics like accuracy, diversity, and alignment to ensure the student model is performing well and aligning with the teacher\\'s capabilities.\"),\\n    (\"Speaker 2\", \"So, we’re checking if the student model is doing as good a job as the teacher?\"),\\n    (\"Speaker 1\", \"Exactly! And we also look at real-world applications to see if the model can handle real-world tasks effectively.\"),\\n    (\"Speaker 2\", \"That’s really fascinating! So, what are the challenges in doing this?\"),\\n    (\"Speaker 1\", \"There are a few challenges. One is data scarcity. Gathering diverse and high-quality data can be tricky. Also, dealing with biases in data and ensuring the model remains fair and ethical is crucial. And then there’s the computational cost of running these large models.\"),\\n    (\"Speaker 2\", \"Yeah, it seems like a lot to overcome, but it’s definitely worth it!\"),\\n    (\"Speaker 1\", \"Absolutely! The potential benefits are immense. Imagine having powerful AI capabilities accessible to everyone, not just those who can afford the proprietary models.\"),\\n    (\"Speaker 2\", \"That’s really inspiring! So, what’s next in this field?\"),\\n    (\"Speaker 1\", \"There are exciting developments like using reinforcement learning to refine models more effectively, exploring new ways to elicit diverse and high-quality data, and making the whole process more efficient and accessible. It’s an exciting time for AI research!\"),\\n    (\"Speaker 2\", \"I can’t wait to see what comes next! Thanks so much for explaining all this, it’s been fascinating!\"),\\n    (\"Speaker 1\", \"My pleasure! Thanks for your enthusiasm and great questions. Stay tuned for more exciting developments in the world of Large Language Models and knowledge distillation!\"),\\n    (\"Speaker 2\", \"Absolutely, looking forward to it!\"),\\n    (\"Speaker 1\", \"[Outro Music]\"),\\n    (\"Speaker 2\", \"[Outro Music Fades Out]\")\\n]'"
      ]
     },
     "execution_count": 6,
     "metadata": {},
     "output_type": "execute_result"
    }
   ],
   "source": [
    "outputs"
   ]
  },
  {
   "cell_type": "markdown",
   "id": "d495a957",
   "metadata": {},
   "source": [
    "Let's save the output as a pickle file to be used in Notebook 4"
   ]
  },
  {
   "cell_type": "code",
   "execution_count": 7,
   "id": "281d3db7-5bfa-4143-9d4f-db87f22870c8",
   "metadata": {
    "ExecuteTime": {
     "end_time": "2024-10-29T18:32:49.657749Z",
     "start_time": "2024-10-29T18:32:49.655572Z"
    }
   },
   "outputs": [],
   "source": [
    "with open('./resources/podcast_ready_data.pkl', 'wb') as file:\n",
    "    pickle.dump(outputs, file)\n",
    "\n",
    "with open('./resources/podcast_ready_data.txt', 'wb') as file:\n",
    "    file.write(outputs.encode('utf-8'))"
   ]
  },
  {
   "cell_type": "markdown",
   "id": "2dccf336",
   "metadata": {},
   "source": [
    "### Next Notebook: TTS Workflow\n",
    "\n",
    "Now that we have our transcript ready, we are ready to generate the audio in the next notebook."
   ]
  },
  {
   "cell_type": "code",
   "execution_count": 8,
   "id": "21c7e456-497b-4080-8b52-6f399f9f8d58",
   "metadata": {
    "ExecuteTime": {
     "end_time": "2024-10-29T18:32:49.672980Z",
     "start_time": "2024-10-29T18:32:49.671253Z"
    }
   },
   "outputs": [],
   "source": [
    "#fin"
   ]
  }
 ],
 "metadata": {
  "kernelspec": {
   "display_name": "Python 3 (ipykernel)",
   "language": "python",
   "name": "python3"
  },
  "language_info": {
   "codemirror_mode": {
    "name": "ipython",
    "version": 3
   },
   "file_extension": ".py",
   "mimetype": "text/x-python",
   "name": "python",
   "nbconvert_exporter": "python",
   "pygments_lexer": "ipython3",
   "version": "3.11.10"
  }
 },
 "nbformat": 4,
 "nbformat_minor": 5
}
