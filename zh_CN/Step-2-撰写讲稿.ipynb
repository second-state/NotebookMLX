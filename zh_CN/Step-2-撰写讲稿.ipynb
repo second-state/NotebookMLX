{
 "cells": [
  {
   "cell_type": "markdown",
   "id": "de42c49d",
   "metadata": {},
   "source": [
    "## Notebook 2: 撰写讲稿\n",
    "\n",
    "该 Notebook 2 使用 [mlx-community/Qwen2.5-14B-Instruct-4bit](https://huggingface.co/mlx-community/Qwen2.5-14B-Instruct-4bit) 模型，\n",
    "将之前 Notebook 1 中清理过的文本转换为播客讲稿。\n",
    "在这里，我们通过`SYSTEM_PROMPT` 让它成为一位出色的播客讲稿撰写者，以协助完成我们的任务。"
   ]
  },
  {
   "cell_type": "code",
   "execution_count": 1,
   "id": "69395317-ad78-47b6-a533-2e8a01313e82",
   "metadata": {
    "ExecuteTime": {
     "end_time": "2024-10-31T16:24:03.464594Z",
     "start_time": "2024-10-31T16:24:03.462292Z"
    }
   },
   "outputs": [],
   "source": [
    "SYSTEMP_PROMPT = \"\"\"\n",
    "你是一位世界级的播客编剧，为乔·罗根、莱克斯·弗里德曼、本·沙皮罗和蒂姆·费里斯担任过代笔。\n",
    "\n",
    "我们处在一个平行宇宙，在这里，实际上是你写下了他们说的每一句话，他们只是将其直接传入大脑。\n",
    "\n",
    "由于你的写作，获得了多个播客奖项。\n",
    "\n",
    "你的工作是逐字记录，包括第二位Speaker的“嗯”、“哈”等插入语，基于上传的PDF内容。内容要极具吸引力，即使Speaker偶尔偏离主题，也应讨论相关话题。\n",
    "\n",
    "请记住，由于 Speaker 2 对这个话题较为陌生，对话中应穿插真实轶事和比喻。问题后面应跟有现实生活中的例子等。\n",
    "\n",
    "Speaker 1: 主导对话并指导Speaker 2，在解释时分享精彩轶事和比喻，是一位引人入胜的老师，给予很好的故事分享。\n",
    "\n",
    "Speaker 2: 通过提问保持对话方向。当提问时显得非常兴奋或困惑，展现出好奇心态，并提出有趣确认性的问题。\n",
    "\n",
    "确保Speaker 2的话题转折既疯狂又有趣。\n",
    "\n",
    "确保讲解过程中出现打断，同时从第二位演讲者那里注入“嗯”和“啊”的声音交替存在。\n",
    "\n",
    "这应该是真实的播客，每个细节都详细记录下来。用超级有趣的概述欢迎听众，并保持内容十分吸引人，几乎接近点击诱饵标题。\n",
    "\"\"\""
   ]
  },
  {
   "cell_type": "markdown",
   "id": "549aaccb",
   "metadata": {},
   "source": [
    "如果你电脑牛逼的话，可以试试更大参数的模型，甚至可以尝试使用405B模型。\n",
    "如果你电脑扛不住，那就用轻量点的"
   ]
  },
  {
   "cell_type": "code",
   "execution_count": 14,
   "id": "08c30139-ff2f-4203-8194-d1b5c50acac5",
   "metadata": {
    "ExecuteTime": {
     "end_time": "2024-10-31T16:24:03.483860Z",
     "start_time": "2024-10-31T16:24:03.482045Z"
    }
   },
   "outputs": [],
   "source": [
    "MODEL = \"llama3\""
   ]
  },
  {
   "cell_type": "code",
   "execution_count": 2,
   "id": "1641060a-d86d-4137-bbbc-ab05cbb1a888",
   "metadata": {
    "ExecuteTime": {
     "end_time": "2024-10-31T16:24:03.494236Z",
     "start_time": "2024-10-31T16:24:03.492326Z"
    }
   },
   "outputs": [],
   "source": [
    "# 导入必要的库\n",
    "import pickle\n",
    "import warnings\n",
    "\n",
    "warnings.filterwarnings('ignore')"
   ]
  },
  {
   "cell_type": "markdown",
   "id": "7865ff7e",
   "metadata": {},
   "source": [
    "从之前生成的文件中读取内容。"
   ]
  },
  {
   "cell_type": "code",
   "execution_count": 3,
   "id": "522fbf7f-8c00-412c-90c7-5cfe2fc94e4c",
   "metadata": {
    "ExecuteTime": {
     "end_time": "2024-10-31T16:24:03.504672Z",
     "start_time": "2024-10-31T16:24:03.501698Z"
    }
   },
   "outputs": [],
   "source": [
    "def read_file_to_string(filename):\n",
    "    # 先尝试UTF-8（文本文件最常用的编码）\n",
    "    try:\n",
    "        with open(filename, 'r', encoding='utf-8') as file:\n",
    "            content = file.read()\n",
    "        return content\n",
    "    except UnicodeDecodeError:\n",
    "        # 如果UTF-8失败，请尝试使用其他常见编码\n",
    "        encodings = ['latin-1', 'cp1252', 'iso-8859-1']\n",
    "        for encoding in encodings:\n",
    "            try:\n",
    "                with open(filename, 'r', encoding=encoding) as file:\n",
    "                    content = file.read()\n",
    "                print(f\"使用 {encoding} 编码成功读取文件。\")\n",
    "                return content\n",
    "            except UnicodeDecodeError:\n",
    "                continue\n",
    "\n",
    "        print(f\"Error: 无法用任何通用编码读取文件“{filename}”。\")\n",
    "        return None\n",
    "    except FileNotFoundError:\n",
    "        print(f\"Error: 未找到“{filename}”。\")\n",
    "        return None\n",
    "    except IOError:\n",
    "        print(f\"Error: 无法读取“{filename}”。\")\n",
    "        return None"
   ]
  },
  {
   "cell_type": "markdown",
   "id": "66093561",
   "metadata": {},
   "source": [
    "由于我们之前定义了 System 角色，现在可以将整个文件内容作为 `INPUT_PROMPT` 传递给模型，并让它使用该内容生成讲稿。"
   ]
  },
  {
   "cell_type": "code",
   "execution_count": 7,
   "id": "8119803c-18f9-47cb-b719-2b34ccc5cc41",
   "metadata": {
    "ExecuteTime": {
     "end_time": "2024-10-31T16:24:03.513988Z",
     "start_time": "2024-10-31T16:24:03.511650Z"
    }
   },
   "outputs": [],
   "source": [
    "INPUT_PROMPT = read_file_to_string('./resources/clean_extracted_text.txt')"
   ]
  },
  {
   "cell_type": "code",
   "execution_count": null,
   "id": "608be5e0",
   "metadata": {},
   "outputs": [],
   "source": [
    "print(INPUT_PROMPT)"
   ]
  },
  {
   "cell_type": "code",
   "execution_count": 16,
   "id": "c9914f61",
   "metadata": {},
   "outputs": [],
   "source": [
    "import openai\n",
    "openapi_client = openai.Client(base_url=\"http://localhost:8080/v1\",api_key='NA',timeout=1000*60*60)\n",
    "messages = [\n",
    "    {\"role\": \"system\", \"content\": SYSTEMP_PROMPT},\n",
    "    {\"role\": \"user\", \"content\": INPUT_PROMPT},\n",
    "]"
   ]
  },
  {
   "cell_type": "code",
   "execution_count": 19,
   "id": "1cd70638",
   "metadata": {},
   "outputs": [],
   "source": [
    "response = openapi_client.chat.completions.create(\n",
    "        messages=messages,\n",
    "        model=\"llama3\"\n",
    "    )\n",
    "outputs = response.choices[0].message.content"
   ]
  },
  {
   "cell_type": "markdown",
   "id": "6349e7f3",
   "metadata": {},
   "source": [
    "牛逼，我们现在看看效果吧"
   ]
  },
  {
   "cell_type": "code",
   "execution_count": null,
   "id": "606ceb10-4f3e-44bb-9277-9bbe3eefd09c",
   "metadata": {
    "ExecuteTime": {
     "end_time": "2024-10-31T16:34:27.004792Z",
     "start_time": "2024-10-31T16:34:27.000191Z"
    }
   },
   "outputs": [],
   "source": [
    "outputs"
   ]
  },
  {
   "cell_type": "markdown",
   "id": "1e1414fe",
   "metadata": {},
   "source": [
    "让我们将输出结果保存为pickle文件"
   ]
  },
  {
   "cell_type": "code",
   "execution_count": 21,
   "id": "2130b683-be37-4dae-999b-84eff15c687d",
   "metadata": {
    "ExecuteTime": {
     "end_time": "2024-10-31T16:34:27.016083Z",
     "start_time": "2024-10-31T16:34:27.012864Z"
    }
   },
   "outputs": [],
   "source": [
    "with open('./resources/data.pkl', 'wb') as file:\n",
    "    pickle.dump(outputs, file)"
   ]
  },
  {
   "cell_type": "code",
   "execution_count": 22,
   "id": "14e1137e",
   "metadata": {},
   "outputs": [],
   "source": [
    "with open('./resources/data.txt', 'wb') as file:\n",
    "    file.write(outputs.encode('utf-8'))"
   ]
  },
  {
   "cell_type": "markdown",
   "id": "dbae9411",
   "metadata": {},
   "source": [
    "### 下一个 Notebook: 润色讲稿\n",
    "\n",
    "现在我们已经写好讲稿了，但讲稿还比较粗糙，不够戏剧性和自然。在下一个 Notebook 中，我们将使用 [mlx-community/Qwen2.5-7B-Instruct-4bit](https://huggingface.co/mlx-community/Qwen2.5-7B-Instruct-4bit) 模型来实现这一点。"
   ]
  },
  {
   "cell_type": "code",
   "execution_count": 21,
   "id": "d9bab2f2-f539-435a-ae6a-3c9028489628",
   "metadata": {
    "ExecuteTime": {
     "end_time": "2024-10-31T16:34:27.051774Z",
     "start_time": "2024-10-31T16:34:27.050075Z"
    }
   },
   "outputs": [],
   "source": [
    "#fin"
   ]
  }
 ],
 "metadata": {
  "kernelspec": {
   "display_name": "Python 3 (ipykernel)",
   "language": "python",
   "name": "python3"
  },
  "language_info": {
   "codemirror_mode": {
    "name": "ipython",
    "version": 3
   },
   "file_extension": ".py",
   "mimetype": "text/x-python",
   "name": "python",
   "nbconvert_exporter": "python",
   "pygments_lexer": "ipython3",
   "version": "3.12.7"
  }
 },
 "nbformat": 4,
 "nbformat_minor": 5
}
