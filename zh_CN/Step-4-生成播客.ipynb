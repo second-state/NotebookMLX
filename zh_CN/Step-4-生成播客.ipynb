{
 "cells": [
  {
   "cell_type": "markdown",
   "id": "45a1b5d7-fd98-4fa2-9bea-e68c514b9245",
   "metadata": {},
   "source": [
    "## Notebook 4: 生成播客\n",
    "\n",
    "现在我们的讲稿已完全准备好，可以生成播客音频了。\n",
    "\n",
    "在这个 Notebook 中，我们将首先学习如何使用[lucasnewman/f5-tts-mlx](https://huggingface.co/lucasnewman/f5-tts-mlx)模型生成音频。\n",
    "\n",
    "接下来，将使用 Notebook 3 处理好的内容来生成我们的播客音频。"
   ]
  },
  {
   "cell_type": "code",
   "execution_count": 47,
   "id": "89d75859-e0f9-40e3-931d-64aa3d273f49",
   "metadata": {
    "ExecuteTime": {
     "end_time": "2024-10-31T16:37:56.526125Z",
     "start_time": "2024-10-31T16:37:55.801219Z"
    }
   },
   "outputs": [],
   "source": [
    "import IPython.display as ipd\n",
    "# from f5_tts_mlx.generate import generate, SAMPLE_RATE\n",
    "from tqdm import tqdm\n",
    "import requests\n"
   ]
  },
  {
   "cell_type": "markdown",
   "id": "dd650176-ab17-47a7-8e02-10dc9ca9e852",
   "metadata": {},
   "source": [
    "## 整合：制作播客\n",
    "\n",
    "好了，现在正式开始生成我们的播客音频"
   ]
  },
  {
   "cell_type": "code",
   "execution_count": 1,
   "id": "b1dca30f-1226-4002-8e02-fd97e78ecc83",
   "metadata": {
    "ExecuteTime": {
     "end_time": "2024-10-31T16:38:20.011592Z",
     "start_time": "2024-10-31T16:38:20.009364Z"
    }
   },
   "outputs": [],
   "source": [
    "import pickle\n",
    "\n",
    "with open('./resources/podcast_ready_data.pkl', 'rb') as file:\n",
    "    PODCAST_TEXT = pickle.load(file)"
   ]
  },
  {
   "cell_type": "code",
   "execution_count": 2,
   "id": "cebfd0f9-8703-4fce-b207-014c6e16cc8a",
   "metadata": {
    "ExecuteTime": {
     "end_time": "2024-10-31T16:38:20.020961Z",
     "start_time": "2024-10-31T16:38:20.018985Z"
    }
   },
   "outputs": [],
   "source": [
    "outputs = []\n",
    "speed = 0.5"
   ]
  },
  {
   "cell_type": "markdown",
   "id": "a8e48b6cd743256",
   "metadata": {},
   "source": [
    "speaker 1 生成音频函数"
   ]
  },
  {
   "cell_type": "code",
   "execution_count": 34,
   "id": "507be39a",
   "metadata": {},
   "outputs": [],
   "source": [
    "def generate_speaker1_audio_web(text, output_path):\n",
    "    response = requests.post(url='http://localhost:8080/v1/audio/speech_gpt',json={'input':text,'speaker':'speaker1'})\n",
    "    with open(output_path, 'wb') as file:\n",
    "        file.write(response.content)"
   ]
  },
  {
   "cell_type": "markdown",
   "id": "c5e729208813a317",
   "metadata": {},
   "source": [
    "speaker 2 生成音频函数"
   ]
  },
  {
   "cell_type": "code",
   "execution_count": 33,
   "id": "93eb8593",
   "metadata": {},
   "outputs": [],
   "source": [
    "def generate_speaker2_audio_web(text, output_path):\n",
    "    response = requests.post(url='http://localhost:8080/v1/audio/speech_gpt',json={'input':text,'speaker':'speaker2'})\n",
    "    with open(output_path, 'wb') as file:\n",
    "        file.write(response.content)"
   ]
  },
  {
   "cell_type": "code",
   "execution_count": 5,
   "id": "c4dbb3b3-cdd3-4a1f-a60a-661e64a67f53",
   "metadata": {
    "ExecuteTime": {
     "end_time": "2024-10-31T16:38:20.041711Z",
     "start_time": "2024-10-31T16:38:20.039295Z"
    }
   },
   "outputs": [
    {
     "data": {
      "text/plain": [
       "'[\\n    (\"Speaker 1\", \"大家好！今天我们要探讨一个既神奇又重要的话题——知识蒸馏（KD）。在这个充满奇迹的时代，我们见证了像GPT-4这样强大的专用模型和像LLaMA这样的开源模型之间的巨大鸿沟。那么，如何通过一种魔法般的技术将这些顶尖模型的高级能力传授给那些渴望学习的学生呢？答案就是知识蒸馏！\"),\\n    (\"Speaker 2\", \"嗯，听起来很厉害！知识蒸馏具体是什么呢？\"),\\n    (\"Speaker 1\", \"哈哈，这个问题很好！知识蒸馏是一种技术，它可以帮助我们把大型语言模型的知识教给小型语言模型。就像一位卓越的魔术师将无限智慧传授给一群渴望学习的孩子们一样。\"),\\n    (\"Speaker 2\", \"[笑] 哇塞，这也太牛逼了吧！Llama 3.2的主要特点有哪些？\"),\\n    (\"Speaker 1\", \"Llama 3.2是一个开源的大语言模型，允许开发者进行微调、提炼和在任何地方部署AI模型。这是比上一版本3.1显著改进的更新，拥有更好的性能、效率和定制功能。就像一把强大的魔法魔杖一样，能够帮助我们解决各种问题。\"),\\n    (\"Speaker 2\", \"哇！那知识蒸馏有哪些算法呢？\"),\\n    (\"Speaker 1\", \"在算法的世界里，我们有多种魔杖——不同的知识蒸馏算法。从传统的KD到最近兴起的数据增强（DA），每一种都有它的独特魅力。这些魔杖不仅帮助我们将高级智慧传授给孩子们，还让它们学会模仿那些强大的教师模型。\"),\\n    (\"Speaker 2\", \"嗯？那数据增强具体是怎么回事呢？\"),\\n    (\"Speaker 1\", \"数据增强就像是一副神奇的放大镜。它可以帮助我们更精细地提取教师模型的知识，并将这些知识转移到学生模型中。想象一下，当你用这幅放大镜观察一颗小石子时，你会看到里面藏着一个完整的宇宙。同样的道理，在我们的模型中，通过数据增强，我们可以从简单的样本中提炼出丰富的知识。\"),\\n    (\"Speaker 2\", \"哦！那垂直化是什么魔法？\"),\\n    (\"Speaker 1\", \"垂直化是一种特殊的技能。就像一位魔法师可以根据需要改变自己的形态一样，我们可以通过垂直化蒸馏让开源模型适应不同的应用场景。无论是医学、法律还是科学，我们的目标都是让这些开源模型能够像它们的专业版本一样胜任各种复杂的任务。\"),\\n    (\"Speaker 2\", \"[叹气] 这听起来真的很复杂！那具体是怎么做的呢？\"),\\n    (\"Speaker 1\", \"让我们通过几个真实的例子来看看这个过程是如何工作的。例如，假设我们有一个非常强大的法律顾问模型GPT-4。我们可以使用它来提取关于法律的丰富知识，并将其传授给一个小型开源模型LLaMA。这样，LLaMA就能像GPT-4一样出色地处理复杂的法律问题。\"),\\n    (\"Speaker 2\", \"哇！那还有其他的例子吗？\"),\\n    (\"Speaker 1\", \"当然！例如，假设我们想要训练一个小模型解决数学问题。我们可以从一个强大的数学专家——比如GPT-4中提取数学推理的技巧，并将其传授给我们的学生模型。这样一来，这个小模型就能像GPT-4那样出色地解决复杂的数学难题了。\"),\\n    (\"Speaker 2\", \"这真是太神奇了！那未来的研究会往哪个方向发展呢？\"),\\n    (\"Speaker 1\", \"知识蒸馏不仅是一种技术，更是一门艺术。它让我们能够将顶尖模型的知识传递给那些渴望学习的孩子们。尽管这过程中充满了挑战，但我们已经看到了许多成功的案例和创新的方法。未来的研究将继续探索如何进一步优化这个过程，让更多的模型拥有更强大的能力。\"),\\n    (\"Speaker 2\", \"嗯？那我们应该期待什么呢？\"),\\n    (\"Speaker 1\", \"好的！我们期待着看到更多先进的知识蒸馏技术出现，并且能够让我们现有的开源模型变得更加智能和灵活。这将为我们的日常生活带来更多的便利和创新。好了，今天的故事就到这里！如果你有任何问题或想要了解更多细节，请随时提问。谢谢大家！\", \"[笑]\")\\n]'"
      ]
     },
     "execution_count": 5,
     "metadata": {},
     "output_type": "execute_result"
    }
   ],
   "source": [
    "PODCAST_TEXT"
   ]
  },
  {
   "cell_type": "markdown",
   "id": "485b4c9e-379f-4004-bdd0-93a53f3f7ee0",
   "metadata": {},
   "source": [
    "现在我们将文本转成数组"
   ]
  },
  {
   "cell_type": "code",
   "execution_count": 48,
   "id": "9946e46c-3457-4bf9-9042-b89fa8f5b47a",
   "metadata": {
    "ExecuteTime": {
     "end_time": "2024-10-31T16:38:20.055794Z",
     "start_time": "2024-10-31T16:38:20.053139Z"
    }
   },
   "outputs": [
    {
     "data": {
      "text/plain": [
       "[('Speaker 1',\n",
       "  '大家好！今天我们要探讨一个既神奇又重要的话题——知识蒸馏（KD）。在这个充满奇迹的时代，我们见证了像GPT-4这样强大的专用模型和像LLaMA这样的开源模型之间的巨大鸿沟。那么，如何通过一种魔法般的技术将这些顶尖模型的高级能力传授给那些渴望学习的学生呢？答案就是知识蒸馏！'),\n",
       " ('Speaker 2', '嗯，听起来很厉害！知识蒸馏具体是什么呢？'),\n",
       " ('Speaker 1',\n",
       "  '哈哈，这个问题很好！知识蒸馏是一种技术，它可以帮助我们把大型语言模型的知识教给小型语言模型。就像一位卓越的魔术师将无限智慧传授给一群渴望学习的孩子们一样。'),\n",
       " ('Speaker 2', '[笑] 哇塞，这也太牛逼了吧！Llama 3.2的主要特点有哪些？'),\n",
       " ('Speaker 1',\n",
       "  'Llama 3.2是一个开源的大语言模型，允许开发者进行微调、提炼和在任何地方部署AI模型。这是比上一版本3.1显著改进的更新，拥有更好的性能、效率和定制功能。就像一把强大的魔法魔杖一样，能够帮助我们解决各种问题。'),\n",
       " ('Speaker 2', '哇！那知识蒸馏有哪些算法呢？'),\n",
       " ('Speaker 1',\n",
       "  '在算法的世界里，我们有多种魔杖——不同的知识蒸馏算法。从传统的KD到最近兴起的数据增强（DA），每一种都有它的独特魅力。这些魔杖不仅帮助我们将高级智慧传授给孩子们，还让它们学会模仿那些强大的教师模型。'),\n",
       " ('Speaker 2', '嗯？那数据增强具体是怎么回事呢？'),\n",
       " ('Speaker 1',\n",
       "  '数据增强就像是一副神奇的放大镜。它可以帮助我们更精细地提取教师模型的知识，并将这些知识转移到学生模型中。想象一下，当你用这幅放大镜观察一颗小石子时，你会看到里面藏着一个完整的宇宙。同样的道理，在我们的模型中，通过数据增强，我们可以从简单的样本中提炼出丰富的知识。'),\n",
       " ('Speaker 2', '哦！那垂直化是什么魔法？'),\n",
       " ('Speaker 1',\n",
       "  '垂直化是一种特殊的技能。就像一位魔法师可以根据需要改变自己的形态一样，我们可以通过垂直化蒸馏让开源模型适应不同的应用场景。无论是医学、法律还是科学，我们的目标都是让这些开源模型能够像它们的专业版本一样胜任各种复杂的任务。'),\n",
       " ('Speaker 2', '[叹气] 这听起来真的很复杂！那具体是怎么做的呢？'),\n",
       " ('Speaker 1',\n",
       "  '让我们通过几个真实的例子来看看这个过程是如何工作的。例如，假设我们有一个非常强大的法律顾问模型GPT-4。我们可以使用它来提取关于法律的丰富知识，并将其传授给一个小型开源模型LLaMA。这样，LLaMA就能像GPT-4一样出色地处理复杂的法律问题。'),\n",
       " ('Speaker 2', '哇！那还有其他的例子吗？'),\n",
       " ('Speaker 1',\n",
       "  '当然！例如，假设我们想要训练一个小模型解决数学问题。我们可以从一个强大的数学专家——比如GPT-4中提取数学推理的技巧，并将其传授给我们的学生模型。这样一来，这个小模型就能像GPT-4那样出色地解决复杂的数学难题了。'),\n",
       " ('Speaker 2', '这真是太神奇了！那未来的研究会往哪个方向发展呢？'),\n",
       " ('Speaker 1',\n",
       "  '知识蒸馏不仅是一种技术，更是一门艺术。它让我们能够将顶尖模型的知识传递给那些渴望学习的孩子们。尽管这过程中充满了挑战，但我们已经看到了许多成功的案例和创新的方法。未来的研究将继续探索如何进一步优化这个过程，让更多的模型拥有更强大的能力。'),\n",
       " ('Speaker 2', '嗯？那我们应该期待什么呢？'),\n",
       " ('Speaker 1',\n",
       "  '好的！我们期待着看到更多先进的知识蒸馏技术出现，并且能够让我们现有的开源模型变得更加智能和灵活。这将为我们的日常生活带来更多的便利和创新。好了，今天的故事就到这里！如果你有任何问题或想要了解更多细节，请随时提问。谢谢大家！',\n",
       "  '[笑]')]"
      ]
     },
     "execution_count": 48,
     "metadata": {},
     "output_type": "execute_result"
    }
   ],
   "source": [
    "import ast\n",
    "\n",
    "ast.literal_eval(PODCAST_TEXT)"
   ]
  },
  {
   "cell_type": "markdown",
   "id": "5c7b4c11-5526-4b13-b0a2-8ca541c475aa",
   "metadata": {},
   "source": [
    "#### 生成最终的播客音频\n",
    "\n",
    "最后，我们通过遍历数组并使用我们的辅助函数来生成对应的音频。"
   ]
  },
  {
   "cell_type": "code",
   "execution_count": null,
   "id": "c640fead-2017-478f-a7b6-1b96105d45d6",
   "metadata": {
    "ExecuteTime": {
     "end_time": "2024-10-31T16:49:11.536133Z",
     "start_time": "2024-10-31T16:38:20.096099Z"
    }
   },
   "outputs": [],
   "source": [
    "final_audio = None\n",
    "\n",
    "i = 1\n",
    "\n",
    "for item in tqdm(ast.literal_eval(PODCAST_TEXT), desc=\"Generating podcast segments\", unit=\"segment\"):\n",
    "    speaker, text = item[0],item[1]\n",
    "    output_path = f\"./resources/segments/_podcast_segment_{i}.wav\"\n",
    "    if speaker == \"Speaker 1\":\n",
    "        generate_speaker1_audio_web(text, output_path)\n",
    "    else:  # Speaker 2\n",
    "        generate_speaker2_audio_web(text, output_path)\n",
    "    i += 1"
   ]
  },
  {
   "cell_type": "code",
   "execution_count": 44,
   "id": "c1160389cd93c9b4",
   "metadata": {
    "ExecuteTime": {
     "end_time": "2024-10-31T17:11:41.532112Z",
     "start_time": "2024-10-31T17:11:41.473741Z"
    }
   },
   "outputs": [
    {
     "name": "stdout",
     "output_type": "stream",
     "text": [
      "audio_files ->  ['./resources/segments/_podcast_segment_1.wav', './resources/segments/_podcast_segment_2.wav', './resources/segments/_podcast_segment_3.wav', './resources/segments/_podcast_segment_4.wav', './resources/segments/_podcast_segment_5.wav', './resources/segments/_podcast_segment_6.wav', './resources/segments/_podcast_segment_7.wav', './resources/segments/_podcast_segment_8.wav', './resources/segments/_podcast_segment_9.wav', './resources/segments/_podcast_segment_10.wav', './resources/segments/_podcast_segment_11.wav', './resources/segments/_podcast_segment_12.wav', './resources/segments/_podcast_segment_13.wav', './resources/segments/_podcast_segment_14.wav', './resources/segments/_podcast_segment_15.wav', './resources/segments/_podcast_segment_16.wav', './resources/segments/_podcast_segment_17.wav', './resources/segments/_podcast_segment_18.wav', './resources/segments/_podcast_segment_19.wav']\n"
     ]
    }
   ],
   "source": [
    "# 合并音频片段 ./resources/segments\n",
    "import re\n",
    "import os\n",
    "import numpy as np\n",
    "import soundfile as sf\n",
    "\n",
    "audio_files = sorted([f\"./resources/segments/{file}\" for file in os.listdir(\"./resources/segments\")],\n",
    "                     key=lambda x: int(re.search(r'segment_(\\d+)\\.wav', x).group(1)))\n",
    "\n",
    "print(\"audio_files -> \", audio_files)\n",
    "\n",
    "audio_data = []\n",
    "for file in audio_files:\n",
    "    data, rate = sf.read(file)\n",
    "    audio_data.append(data)\n",
    "\n",
    "audio_data = np.concatenate(audio_data)"
   ]
  },
  {
   "cell_type": "markdown",
   "id": "4fbb2228-8023-44c4-aafe-d6e1d22ff8e4",
   "metadata": {},
   "source": [
    "### 输出播客音频\n",
    "\n",
    "现在我们将其保存为wav文件"
   ]
  },
  {
   "cell_type": "code",
   "execution_count": 46,
   "id": "2eeffdb7-875a-45ec-bdd8-c8c5b34f5a7b",
   "metadata": {
    "ExecuteTime": {
     "end_time": "2024-10-31T17:11:44.929870Z",
     "start_time": "2024-10-31T17:11:44.867584Z"
    }
   },
   "outputs": [],
   "source": [
    "SAMPLE_RATE = 32000\n",
    "sf.write(\"./resources/_podcast.wav\", audio_data, SAMPLE_RATE)"
   ]
  },
  {
   "cell_type": "markdown",
   "id": "c7ce5836",
   "metadata": {},
   "source": [
    "### 最后的建议\n",
    "\n",
    "- 修改 Prompt：你可以尝试修改 SYSTEM_PROMPT，让其能生成你想要的风格\n",
    "- 可以尝试扩展更多发言者\n",
    "- 尝试使用其他 TTS 模型\n",
    "- 将语音增强模型作为第5步进行尝试。"
   ]
  },
  {
   "cell_type": "code",
   "execution_count": 14,
   "id": "26cc56c5-b9c9-47c2-b860-0ea9f05c79af",
   "metadata": {
    "ExecuteTime": {
     "end_time": "2024-10-31T16:49:11.671845Z",
     "start_time": "2024-10-31T16:49:11.670194Z"
    }
   },
   "outputs": [],
   "source": [
    "#fin"
   ]
  }
 ],
 "metadata": {
  "kernelspec": {
   "display_name": "Python 3 (ipykernel)",
   "language": "python",
   "name": "python3"
  },
  "language_info": {
   "codemirror_mode": {
    "name": "ipython",
    "version": 3
   },
   "file_extension": ".py",
   "mimetype": "text/x-python",
   "name": "python",
   "nbconvert_exporter": "python",
   "pygments_lexer": "ipython3",
   "version": "3.12.7"
  }
 },
 "nbformat": 4,
 "nbformat_minor": 5
}
